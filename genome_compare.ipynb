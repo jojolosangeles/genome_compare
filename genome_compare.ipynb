{
 "cells": [
  {
   "cell_type": "markdown",
   "metadata": {},
   "source": [
    "### Genome Comparison with [elasticsearch](https://www.elastic.co) and [altair](https://altair-viz.github.io/)\n",
    "#### Overview\n",
    "This visualization shows large scale changes within genomes since their last common ancestor.  Using three genomes -- human, chimp, gorilla from (links go here).\n",
    "\n",
    "The sequences are each about 3 billion values grouped into chromosomes, and the input is just raw sequence data (below code just strips out everything else from FASTA file, which is probably not going to get that raw sequence, but it seems to be close enough the visualization still makes sense.\n",
    "\n",
    "There's two passes over the data, the first pass processes the files into bulk load format for elasticsearch.  The second pass samples each location (below is about 1/10th of 1 percent sample), searches for best match in elasticsearch.  In most cases, the best match will be a corresponding location in another species \n",
    "Comparing sequences in order they exist in file, all other text removed.\n",
    "\n",
    "\n",
    "#### Processing the data\n",
    "The three sequences total about 9 billion values.  These are put into Elasticsearch, then comparison is just taking a sample, and searching for it in the records.\n",
    "\n",
    "In the example below, the sequence records represent either 100,000 or 1,000,000 values, which turn into elasticsearch indexes with 90,000 or 9,000 records.\n",
    "\n",
    "Input data is FASTA files downloaded from [NCBI](ftp://ftp.ncbi.nlm.nih.gov/genomes/)\n",
    "\n",
    "Steps to process files:\n",
    "\n",
    "- create file with one long ACGT sequence\n",
    "- break sequence into fixed size chunks\n",
    "- *process each chunk into a sequence of \"words\" (smaller character sequences)*\n",
    "- *process resulting list of words (e.g. eliminate short words)*\n",
    "- insert word sequence along with species, chromosome, location (chunk) into an Elasticsearch index\n",
    "\n",
    "Steps to relate species\n",
    "\n",
    "- sample each chunk, in example below ~1% of each chunk is used as sample\n",
    "- process sample exactly same way as chunks processed before insertion into elasticsearch\n",
    "- search for sample (simple Elasticsearch query)\n",
    "- search results and scores define closely related genome chunks\n",
    "- *repeat this sequence for the reverse complement of the sample sequence*\n",
    "\n",
    "The steps that process the sequence execute *before* data is inserted into Elasticsearch, or they can execute *inside* Elasticsearch via elasticsearch [Character Filters, Tokenizers, and Token Filters](https://www.elastic.co/guide/en/elasticsearch/reference/current/analyzer-anatomy.html)."
   ]
  },
  {
   "cell_type": "code",
   "execution_count": null,
   "metadata": {},
   "outputs": [],
   "source": [
    "import altair as alt\n",
    "import numpy as np\n",
    "import pandas as pd\n",
    "from script_tools.df_process import load_df\n",
    "\n",
    "alt.renderers.enable()\n",
    "alt.data_transformers.disable_max_rows()\n",
    "\n",
    "df = pd.read_csv('data/6primate_chromo_relationships.gz')\n",
    "\n",
    "ordering = { \n",
    "    \"Gorilla_gorilla\": [ '1', '2A', '2B', '3', '4', '5', '6', '7', '8', '9', '10', \n",
    "         '11', '12', '13', '14', '15', '16', '17', '18', '19', '20', \n",
    "         '21', '22', 'X' ],\n",
    "    \"hg38\": [ '1', '2', '3', '4', '5', '6', '7', '8', '9', '10', \n",
    "         '11', '12', '13', '14', '15', '16', '17', '18', '19', '20', \n",
    "         '21', '22', 'X', 'Y' ],\n",
    "    \"Macaca_fascicularis\" :[ '1', '2', '3', '4', '5', '6', '7', '8', '9', '10', \n",
    "         '11', '12', '13', '14', '15', '16', '17', '18', '19', '20', \n",
    "         '21', '22', 'X' ],\n",
    "    \"Macaca_mulatta\": [ '1', '2', '3', '4', '5', '6', '7', '8', '9', '10', \n",
    "         '11', '12', '13', '14', '15', '16', '17', '18', '19', '20', \n",
    "         '21', '22', 'X', 'Y' ],\n",
    "    \"Pan_troglodytes\": [ '1', '2A', '2B', '3', '4', '5', '6', '7', '8', '9', '10', \n",
    "         '11', '12', '13', '14', '15', '16', '17', '18', '19', '20', \n",
    "         '21', '22', 'X', 'Y' ],\n",
    "    \"Pongo_abelii\":  [ '1', '2A', '2B', '3', '4', '5', '6', '7', '8', '9', '10', \n",
    "         '11', '12', '13', '14', '15', '16', '17', '18', '19', '20', \n",
    "         '21', '22', 'X' ]\n",
    "           }\n"
   ]
  },
  {
   "cell_type": "code",
   "execution_count": null,
   "metadata": {},
   "outputs": [],
   "source": [
    "df.sp.unique()"
   ]
  },
  {
   "cell_type": "code",
   "execution_count": null,
   "metadata": {},
   "outputs": [],
   "source": [
    "df[(df['sp'] == 'Pongo_abelii')]['chr'].unique()"
   ]
  },
  {
   "cell_type": "code",
   "execution_count": null,
   "metadata": {},
   "outputs": [],
   "source": [
    "import itertools\n",
    "\n",
    "def tuplerow(df, sp, chromo, mchr_order):\n",
    "    return tuple(df[(df['sp'] == sp) & (df['chr'] == chromo) & (df['mchr'] == mchr)].count() for mchr in mchr_order)\n",
    "\n",
    "def confusion_matrix_result(df, sp, msp):\n",
    "    data = df[(df['sp'] == sp) & (df['msp'] == msp)]\n",
    "    sp_chromo_order = ordering[sp]\n",
    "    msp_chromo_order = ordering[msp]\n",
    "    return tuple(tuplerow(df, sp, chromo, msp_chromo_order) for chromo in sp_chromo_order)\n",
    "    \n",
    "def confusion_matrix_generator(df):\n",
    "    for sp, msp in itertools.combinations(df['sp'].unique(), 2):\n",
    "        yield confusion_matrix_result(df, sp, msp)"
   ]
  },
  {
   "cell_type": "code",
   "execution_count": null,
   "metadata": {},
   "outputs": [],
   "source": [
    "len(m)"
   ]
  },
  {
   "cell_type": "code",
   "execution_count": null,
   "metadata": {},
   "outputs": [],
   "source": [
    "m[0]"
   ]
  },
  {
   "cell_type": "code",
   "execution_count": null,
   "metadata": {},
   "outputs": [],
   "source": []
  },
  {
   "cell_type": "code",
   "execution_count": null,
   "metadata": {},
   "outputs": [],
   "source": [
    "\n",
    "sp = 'Gorilla_gorilla'\n",
    "msp = 'hg38'\n",
    "\n",
    "sp_labels = ordering[sp]\n",
    "msp_labels = ordering[msp]\n",
    "\n",
    "cm_df = df[(df['sp'] == sp) & (df['msp'] == msp)]\n",
    "my_list = cm_df['chr'].apply(lambda x: x.upper())\n",
    "cm_df.insert(0, 'hsf', my_list)\n",
    "cm_df = cm_df.drop('chr', axis=1)\n",
    "cm_df = cm_df.rename(columns={\"hsf\": \"chr\"})"
   ]
  },
  {
   "cell_type": "code",
   "execution_count": null,
   "metadata": {},
   "outputs": [],
   "source": [
    "def vals(cdf, row_labels, col_labels):\n",
    "    result = np.zeros(len(row_labels))\n",
    "    for index, row in cdf.iterrows():\n",
    "        if row['chr'] in row_labels:\n",
    "            result[row_labels.index(row['chr'])] = row['count']\n",
    "    return result\n",
    "\n",
    "    \n",
    "# creating a DataFrame with rows from sp, columns from msp\n",
    "# first create a dictionary with keys from msp, these will be the columns\n",
    "d = { key:vals(cm_df[cm_df['mchr'] == key], sp_labels, msp_labels) for key in msp_labels}\n",
    "ddf = pd.DataFrame(d)\n",
    "ddf.index = sp_labels\n",
    "ddf"
   ]
  },
  {
   "cell_type": "code",
   "execution_count": null,
   "metadata": {},
   "outputs": [],
   "source": [
    "ddf.index = sp_labels\n",
    "ddf"
   ]
  },
  {
   "cell_type": "code",
   "execution_count": null,
   "metadata": {},
   "outputs": [],
   "source": [
    "import seaborn as sns; sns.set()\n",
    "import matplotlib.pyplot as plt"
   ]
  },
  {
   "cell_type": "code",
   "execution_count": null,
   "metadata": {},
   "outputs": [],
   "source": [
    "ddf"
   ]
  },
  {
   "cell_type": "code",
   "execution_count": null,
   "metadata": {},
   "outputs": [],
   "source": [
    "sp,msp"
   ]
  },
  {
   "cell_type": "code",
   "execution_count": null,
   "metadata": {},
   "outputs": [],
   "source": []
  },
  {
   "cell_type": "code",
   "execution_count": null,
   "metadata": {},
   "outputs": [],
   "source": [
    "plt.figure(figsize=(13,10))\n",
    "plt.xlabel(msp)\n",
    "plt.ylabel(sp)\n",
    "ax = sns.heatmap(ddf,xticklabels=True, yticklabels=True)"
   ]
  },
  {
   "cell_type": "code",
   "execution_count": null,
   "metadata": {},
   "outputs": [],
   "source": []
  },
  {
   "cell_type": "code",
   "execution_count": null,
   "metadata": {},
   "outputs": [],
   "source": []
  },
  {
   "cell_type": "code",
   "execution_count": null,
   "metadata": {},
   "outputs": [],
   "source": []
  },
  {
   "cell_type": "code",
   "execution_count": null,
   "metadata": {},
   "outputs": [],
   "source": []
  },
  {
   "cell_type": "code",
   "execution_count": null,
   "metadata": {},
   "outputs": [],
   "source": []
  },
  {
   "cell_type": "code",
   "execution_count": null,
   "metadata": {},
   "outputs": [],
   "source": []
  },
  {
   "cell_type": "code",
   "execution_count": null,
   "metadata": {},
   "outputs": [],
   "source": []
  },
  {
   "cell_type": "code",
   "execution_count": null,
   "metadata": {},
   "outputs": [],
   "source": []
  },
  {
   "cell_type": "code",
   "execution_count": null,
   "metadata": {},
   "outputs": [],
   "source": []
  },
  {
   "cell_type": "code",
   "execution_count": null,
   "metadata": {},
   "outputs": [],
   "source": []
  },
  {
   "cell_type": "code",
   "execution_count": null,
   "metadata": {},
   "outputs": [],
   "source": [
    "sns.heatmap?"
   ]
  },
  {
   "cell_type": "code",
   "execution_count": null,
   "metadata": {},
   "outputs": [],
   "source": []
  },
  {
   "cell_type": "code",
   "execution_count": null,
   "metadata": {},
   "outputs": [],
   "source": []
  },
  {
   "cell_type": "code",
   "execution_count": null,
   "metadata": {},
   "outputs": [],
   "source": [
    "cm_df[cm_df['mchr'] == '2']"
   ]
  },
  {
   "cell_type": "code",
   "execution_count": null,
   "metadata": {},
   "outputs": [],
   "source": []
  },
  {
   "cell_type": "code",
   "execution_count": null,
   "metadata": {},
   "outputs": [],
   "source": []
  },
  {
   "cell_type": "code",
   "execution_count": null,
   "metadata": {},
   "outputs": [],
   "source": [
    "df2"
   ]
  },
  {
   "cell_type": "code",
   "execution_count": null,
   "metadata": {},
   "outputs": [],
   "source": [
    "for index, row in df2.iterrows():\n",
    "    print(msp_labels.index(row['mchr']), index, row['mchr'])"
   ]
  },
  {
   "cell_type": "code",
   "execution_count": null,
   "metadata": {},
   "outputs": [],
   "source": []
  },
  {
   "cell_type": "code",
   "execution_count": null,
   "metadata": {},
   "outputs": [],
   "source": []
  },
  {
   "cell_type": "code",
   "execution_count": null,
   "metadata": {},
   "outputs": [],
   "source": []
  },
  {
   "cell_type": "code",
   "execution_count": null,
   "metadata": {},
   "outputs": [],
   "source": []
  },
  {
   "cell_type": "code",
   "execution_count": null,
   "metadata": {},
   "outputs": [],
   "source": [
    "conf_df"
   ]
  },
  {
   "cell_type": "code",
   "execution_count": null,
   "metadata": {},
   "outputs": [],
   "source": []
  },
  {
   "cell_type": "code",
   "execution_count": null,
   "metadata": {},
   "outputs": [],
   "source": [
    "cm_df.head()"
   ]
  },
  {
   "cell_type": "code",
   "execution_count": null,
   "metadata": {},
   "outputs": [],
   "source": [
    "cm_df = cm_df.drop(['x','ha','hsf'], axis=1)"
   ]
  },
  {
   "cell_type": "code",
   "execution_count": null,
   "metadata": {},
   "outputs": [],
   "source": []
  },
  {
   "cell_type": "code",
   "execution_count": null,
   "metadata": {},
   "outputs": [],
   "source": []
  },
  {
   "cell_type": "code",
   "execution_count": null,
   "metadata": {},
   "outputs": [],
   "source": []
  },
  {
   "cell_type": "code",
   "execution_count": null,
   "metadata": {},
   "outputs": [],
   "source": []
  },
  {
   "cell_type": "code",
   "execution_count": null,
   "metadata": {},
   "outputs": [],
   "source": []
  },
  {
   "cell_type": "code",
   "execution_count": null,
   "metadata": {},
   "outputs": [],
   "source": [
    "type(cm_df)"
   ]
  },
  {
   "cell_type": "code",
   "execution_count": null,
   "metadata": {},
   "outputs": [],
   "source": []
  },
  {
   "cell_type": "code",
   "execution_count": null,
   "metadata": {},
   "outputs": [],
   "source": [
    "cm_df['x'] = [ s.upper() for s in cm_df['chr']]"
   ]
  },
  {
   "cell_type": "code",
   "execution_count": null,
   "metadata": {},
   "outputs": [],
   "source": [
    "chr1_row_df = cm_df[cm_df['chr'] == '1']"
   ]
  },
  {
   "cell_type": "code",
   "execution_count": null,
   "metadata": {},
   "outputs": [],
   "source": [
    "chr1_row_df"
   ]
  },
  {
   "cell_type": "code",
   "execution_count": null,
   "metadata": {},
   "outputs": [],
   "source": [
    "chr1_row_df[[\"mchr\", \"count\"]]"
   ]
  },
  {
   "cell_type": "code",
   "execution_count": null,
   "metadata": {},
   "outputs": [],
   "source": [
    "for index, row in chr1_row_df.iterrows():\n",
    "    result[msp_labels.index(row['mchr'])] = row['count']\n",
    "result"
   ]
  },
  {
   "cell_type": "code",
   "execution_count": null,
   "metadata": {},
   "outputs": [],
   "source": []
  },
  {
   "cell_type": "code",
   "execution_count": null,
   "metadata": {},
   "outputs": [],
   "source": []
  },
  {
   "cell_type": "code",
   "execution_count": null,
   "metadata": {},
   "outputs": [],
   "source": [
    "msp_labels.index('3')"
   ]
  },
  {
   "cell_type": "code",
   "execution_count": null,
   "metadata": {},
   "outputs": [],
   "source": []
  },
  {
   "cell_type": "code",
   "execution_count": null,
   "metadata": {},
   "outputs": [],
   "source": [
    "chr1_row_df[[\"mchr\",\"count\"]]"
   ]
  },
  {
   "cell_type": "code",
   "execution_count": null,
   "metadata": {},
   "outputs": [],
   "source": []
  },
  {
   "cell_type": "code",
   "execution_count": null,
   "metadata": {},
   "outputs": [],
   "source": []
  },
  {
   "cell_type": "code",
   "execution_count": null,
   "metadata": {},
   "outputs": [],
   "source": [
    "alt.Chart(df_1M).mark_bar().encode(\n",
    "    alt.X(\"score:Q\", title='Elasticsearch scores, 1M records (3 samples per record)', bin=alt.BinParams(step=1000)),\n",
    "    y=alt.Y('count()'),\n",
    ")"
   ]
  },
  {
   "cell_type": "markdown",
   "metadata": {},
   "source": [
    "#### Example #1: storing 1M bp records in elasticsearch, search for 10k of data\n",
    "Below shows correspondence between chromosome data based on elasticsearch results.  In most cases, the chromosome data corresponds to same chromosome number.  But there are some large scale structural changes that show up in the data.\n",
    "\n",
    "The relationship between the chromosomes of two species is determined by Elasticsearch, below are a couple ways to see this.  First is by just a dataframe, second is a heatmap."
   ]
  },
  {
   "cell_type": "code",
   "execution_count": null,
   "metadata": {},
   "outputs": [],
   "source": [
    "hc_relationships = related_species.getChromosomeRelationships('human', 'chimp', 100)\n",
    "hc_relationships"
   ]
  },
  {
   "cell_type": "code",
   "execution_count": null,
   "metadata": {},
   "outputs": [],
   "source": [
    "# or even more interesting, the chromosomes that have relationships to more than one other\n",
    "counts = hc_relationships.groupby(['human']).count()\n",
    "counts = counts[counts['count'] > 1]\n",
    "hc_relationships[hc_relationships['human'].isin(counts.index)]"
   ]
  },
  {
   "cell_type": "code",
   "execution_count": null,
   "metadata": {},
   "outputs": [],
   "source": [
    "hg_relationships = related_species.getChromosomeRelationships('gorilla', 'human', 10)\n",
    "counts = hg_relationships.groupby(['gorilla']).count()\n",
    "counts = counts[counts['count'] > 1]\n",
    "hg_relationships[hg_relationships['gorilla'].isin(counts.index)]"
   ]
  },
  {
   "cell_type": "code",
   "execution_count": null,
   "metadata": {},
   "outputs": [],
   "source": [
    "cg_relationships = related_species.getChromosomeRelationships('chimp', 'gorilla', 200)\n",
    "counts = cg_relationships.groupby(['chimp']).count()\n",
    "counts = counts[counts['count'] > 1]\n",
    "cg_relationships[cg_relationships['chimp'].isin(counts.index)]"
   ]
  },
  {
   "cell_type": "code",
   "execution_count": null,
   "metadata": {},
   "outputs": [],
   "source": [
    "species_graph.chromosomeRelationships('human', 'chimp')"
   ]
  },
  {
   "cell_type": "code",
   "execution_count": null,
   "metadata": {},
   "outputs": [],
   "source": [
    "species_graph.chromosomeRelationships('human', 'gorilla')"
   ]
  },
  {
   "cell_type": "code",
   "execution_count": null,
   "metadata": {},
   "outputs": [],
   "source": [
    "species_graph.chromosomeRelationships('chimp', 'gorilla')"
   ]
  },
  {
   "cell_type": "code",
   "execution_count": null,
   "metadata": {},
   "outputs": [],
   "source": [
    "domains = [ 'same', 'inversed']\n",
    "color_scale = alt.Scale(\n",
    "    domain=domains,\n",
    "    range=['#6baed6', '#fcae91']\n",
    ")\n",
    "\n",
    "def cgraph(df, top_species, top_chromosome, middle_species, middle_chromosome, bottom_species, bottom_chromosome, graph_width=600):\n",
    "    g = alt.Chart(df).mark_line().encode(\n",
    "        x=alt.X('x',axis=alt.Axis(grid=False)),\n",
    "        y=alt.Y('y',axis=alt.Axis(grid=False)),\n",
    "        x2='x2',\n",
    "        y2='y2',\n",
    "        opacity=alt.value(0.3),\n",
    "        color=alt.Color('orientation:N', title='',scale=color_scale)\n",
    "    )\n",
    "    \n",
    "    maxVals = df.max()\n",
    "    maxCenter = maxVals['x']\n",
    "    maxRest = maxVals['x2']\n",
    "    maxY = max(maxVals['y'], maxVals['y2'])\n",
    "     \n",
    "    # here I just want a bar at the top, and text on the right that says:  species, chromosome\n",
    "    # top_data + bars, gives me a transparent green bar at top, with no text\n",
    "    top_label = f\"{top_species}, {top_chromosome}\"\n",
    "    middle_label = f\"{middle_species}, {middle_chromosome}\"\n",
    "    bottom_label = f\"{bottom_species}, {bottom_chromosome}\"\n",
    "    X_MARGIN = 10\n",
    "    Y_MARGIN = 12\n",
    "    top_data = pd.DataFrame({\n",
    "        'x': [ maxRest + X_MARGIN, maxRest + X_MARGIN, maxRest + X_MARGIN ],\n",
    "        'y': [ maxY - Y_MARGIN, int(maxY/2), Y_MARGIN ],\n",
    "        'text': [ top_label, middle_label, bottom_label ]\n",
    "    })\n",
    "    speciesLabels = alt.Chart(top_data).mark_text(\n",
    "        stroke='grey',\n",
    "        opacity=0.9, \n",
    "        fontSize=10,\n",
    "        fontStyle=\"italic\",\n",
    "        align=\"left\"\n",
    "    ).encode(\n",
    "        x=alt.X('x:Q'),\n",
    "        y=alt.Y('y:Q'),\n",
    "        text=alt.Text('text'),\n",
    "        color=alt.Color('orientation:N', legend=None, scale=color_scale)\n",
    "    )\n",
    "    \n",
    "    x = alt.Chart().mark_text().encode(\n",
    "        x=alt.X('x:Q', axis=alt.Axis(title='million bp', grid=False, ticks=True)),\n",
    "        y=alt.Y('y:Q', axis=alt.Axis(title='', grid=False, labels=False, ticks=False)),\n",
    "        color=alt.Color('orientation:N', legend=alt.Legend(orient=\"left\",title='', symbolType=\"stroke\"), scale=color_scale)\n",
    "    )\n",
    "\n",
    "    return alt.layer(x, speciesLabels, g).configure_view(\n",
    "        stroke='transparent',\n",
    "        width=graph_width\n",
    "    ).configure_axis(grid=False)\n",
    "\n",
    "\n",
    "def sp_to_y(val, top, mid, bot):\n",
    "    if val == bot:\n",
    "        return 0\n",
    "    elif val == mid:\n",
    "        return 200\n",
    "    else:\n",
    "        return 400\n",
    "\n",
    "def mod_df(df, top_sp, top_chr, top_start_loc, middle_sp, middle_chr, middle_start_loc, bottom_sp, bottom_chr, bottom_start_loc, min_score=1000):\n",
    "    \"\"\"Lines out from middle to top and bottom\"\"\"\n",
    "    df = df[df['sp'] == middle_sp]\n",
    "    df = df[df['score'] > min_score]\n",
    "    df = df[df['chr'] == middle_chr]\n",
    "    df = df[((df['mchr'] == top_chr) & (df['msp'] == top_sp)) | ((df['mchr'] == bottom_chr) & (df['msp'] == bottom_sp))]\n",
    "    df['x'] = [(x - middle_start_loc)/1000000 for x in df['loc']]\n",
    "    df['y'] = [ sp_to_y(val, top_sp, middle_sp, bottom_sp) for val in df['sp']]\n",
    "    df['y2'] = [ sp_to_y(val, top_sp, middle_sp, bottom_sp) for val in df['msp']]\n",
    "    df['x2'] = [ ((x - top_start_loc)/1000000) if y == 400 else ((x - bottom_start_loc)/1000000) \n",
    "                for x,y in zip(df['mloc'], df['y2'])]\n",
    "    df = df[df['x'] >= 0]\n",
    "    return df\n",
    "\n",
    "def graph_df(df, top_sp, top_chr, top_start_loc, middle_sp, middle_chr, bottom_sp, bottom_chr, min_score=1000, graph_width=600):\n",
    "    df = mod_df(df, top_sp, top_chr, 0, middle_sp, middle_chr, 0, bottom_sp, bottom_chr, 0, min_score)\n",
    "    return cgraph(df, top_sp, top_chr, middle_sp, middle_chr, bottom_sp, bottom_chr, graph_width)\n",
    "\n",
    "def chromosome_compare(df, top_spec, middle_spec, bottom_spec, min_score=1000, graph_width=600):\n",
    "    top_sp, top_chr, top_start_loc = top_spec\n",
    "    middle_sp, middle_chr, middle_start_loc = middle_spec\n",
    "    bottom_sp, bottom_chr, bottom_start_loc = bottom_spec\n",
    "    df = mod_df(df, top_sp, top_chr, top_start_loc, middle_sp, middle_chr, middle_start_loc, bottom_sp, bottom_chr, bottom_start_loc, min_score)\n",
    "    return cgraph(df, top_sp, top_chr, middle_sp, middle_chr, bottom_sp, bottom_chr, graph_width)\n",
    "\n",
    "# either refine 3 species graph or make it generic and able to handle same species (for duplicates)\n",
    "# parameters should be (species, chromosome, start_loc, end_loc)\n"
   ]
  },
  {
   "cell_type": "markdown",
   "metadata": {},
   "source": [
    "##### Chromosome 1:  Human + Chimp + Gorilla\n",
    "\n",
    "When 3 species are shown, we can identify which species had what sort of large scale event (inversion, duplication, splitting, joining).\n",
    "\n",
    "For example, below there are events like:\n",
    "- a large inversion in chimp 2A, and a smaller human inversion\n",
    "- a large section of chimp 7 getting duplicated onto the end of chimp 7 (needs some more investigation)\n"
   ]
  },
  {
   "cell_type": "markdown",
   "metadata": {},
   "source": [
    "*Chromosome 1 events*\n",
    "- Gorilla, chromosome 1, a sequence of inversion events"
   ]
  },
  {
   "cell_type": "code",
   "execution_count": null,
   "metadata": {},
   "outputs": [],
   "source": [
    "mdf = mod_df(df_1M, \"human\", \"1\", 0, \"chimp\", \"1\", 0, \"gorilla\", \"1\", 0)\n",
    "len(mdf),mdf"
   ]
  },
  {
   "cell_type": "code",
   "execution_count": null,
   "metadata": {},
   "outputs": [],
   "source": [
    "chromosome_compare(TEST_DF, (\"human\", \"1\", 0), (\"chimp\", \"1\", 0), (\"gorilla\", \"1\", 0))\n"
   ]
  },
  {
   "cell_type": "code",
   "execution_count": null,
   "metadata": {},
   "outputs": [],
   "source": [
    "from species.related_species import StructuralRelationships\n",
    "sr = StructuralRelationships(TEST_DF, 'chimp', '1', 'gorilla', '1', 100000)\n",
    "list(sr.similar_sections(2))"
   ]
  },
  {
   "cell_type": "markdown",
   "metadata": {},
   "source": [
    "*Chromosome 2 events*\n",
    "- Chimp, large 2A inversion\n",
    "- Human, smaller 2 inversion"
   ]
  },
  {
   "cell_type": "code",
   "execution_count": null,
   "metadata": {},
   "outputs": [],
   "source": [
    "chromosome_compare(TEST_DF, (\"human\", \"2\", 0), (\"gorilla\", \"2A\", 0), (\"chimp\", \"2A\", 0))"
   ]
  },
  {
   "cell_type": "markdown",
   "metadata": {},
   "source": [
    "*Chromosome 2 events*\n",
    "- Human, 2 chromosomes merge into one\n",
    "\n",
    "below shows right side of Human 2 same as 2B for Chimp and Gorilla."
   ]
  },
  {
   "cell_type": "code",
   "execution_count": null,
   "metadata": {},
   "outputs": [],
   "source": [
    "chromosome_compare(TEST_DF, (\"human\", \"2\", 105000000), (\"chimp\", \"2B\", 0), (\"gorilla\", \"2B\", 0))"
   ]
  },
  {
   "cell_type": "markdown",
   "metadata": {},
   "source": [
    "*Chromosome 3 events*\n",
    "- Human, several large inversions"
   ]
  },
  {
   "cell_type": "code",
   "execution_count": null,
   "metadata": {},
   "outputs": [],
   "source": [
    "chromosome_compare(TEST_DF, ('human', '3', 0), ('chimp', '3', 0), ('gorilla','3', 0))"
   ]
  },
  {
   "cell_type": "code",
   "execution_count": null,
   "metadata": {},
   "outputs": [],
   "source": [
    "chromosome_compare(TEST_DF, ('human', '4', 0), ('chimp', '4', 0), ('gorilla', '4', 0))"
   ]
  },
  {
   "cell_type": "code",
   "execution_count": null,
   "metadata": {},
   "outputs": [],
   "source": [
    "chromosome_compare(TEST_DF, ('human', '5', 0), ('chimp', '5', 0), ('gorilla', '5', 0))"
   ]
  },
  {
   "cell_type": "code",
   "execution_count": null,
   "metadata": {},
   "outputs": [],
   "source": [
    "chromosome_compare(TEST_DF, ('human', '6', 0), ('chimp', '6', 0), ('gorilla', '6', 0))"
   ]
  },
  {
   "cell_type": "markdown",
   "metadata": {},
   "source": [
    "*Chromosome 7 events*\n",
    "- looks like several sections got duplicated onto end (unexpected)"
   ]
  },
  {
   "cell_type": "code",
   "execution_count": null,
   "metadata": {},
   "outputs": [],
   "source": [
    "chromosome_compare(TEST_DF, ('human', '7', 0), ('chimp', '7', 0), ('gorilla', '7', 0))"
   ]
  },
  {
   "cell_type": "code",
   "execution_count": null,
   "metadata": {},
   "outputs": [],
   "source": [
    "chromosome_compare(TEST_DF, ('human', '8', 0), ('chimp', '8', 0), ('gorilla', '8', 0))"
   ]
  },
  {
   "cell_type": "code",
   "execution_count": null,
   "metadata": {},
   "outputs": [],
   "source": [
    "chromosome_compare(TEST_DF, ('human', '9', 0), ('chimp', '9', 0), ('gorilla', '9', 0))"
   ]
  },
  {
   "cell_type": "code",
   "execution_count": null,
   "metadata": {},
   "outputs": [],
   "source": [
    "chromosome_compare(TEST_DF, ('human', '10', 0), ('chimp', '10', 0), ('gorilla', '10', 0))"
   ]
  },
  {
   "cell_type": "code",
   "execution_count": null,
   "metadata": {},
   "outputs": [],
   "source": [
    "chromosome_compare(TEST_DF, ('human', '11', 0), ('chimp', '11', 0), ('gorilla', '11', 0))"
   ]
  },
  {
   "cell_type": "code",
   "execution_count": null,
   "metadata": {},
   "outputs": [],
   "source": [
    "chromosome_compare(TEST_DF, ('human', '12', 0), ('chimp', '12', 0), ('gorilla', '12', 0))"
   ]
  },
  {
   "cell_type": "code",
   "execution_count": null,
   "metadata": {},
   "outputs": [],
   "source": [
    "chromosome_compare(TEST_DF, ('human', '13', 0), ('chimp', '13', 0), ('gorilla', '13', 0))"
   ]
  },
  {
   "cell_type": "code",
   "execution_count": null,
   "metadata": {},
   "outputs": [],
   "source": [
    "chromosome_compare(TEST_DF, ('human', '14', 0), ('chimp', '14', 0), ('gorilla', '14', 0))"
   ]
  },
  {
   "cell_type": "code",
   "execution_count": null,
   "metadata": {},
   "outputs": [],
   "source": [
    "chromosome_compare(TEST_DF, ('human', '15', 0), ('chimp', '15', 0), ('gorilla', '15', 0))"
   ]
  },
  {
   "cell_type": "code",
   "execution_count": null,
   "metadata": {},
   "outputs": [],
   "source": [
    "chromosome_compare(TEST_DF, ('human', '16', 0), ('chimp', '16', 0), ('gorilla', '16', 0))"
   ]
  },
  {
   "cell_type": "code",
   "execution_count": null,
   "metadata": {},
   "outputs": [],
   "source": [
    "chromosome_compare(TEST_DF, ('human', '17', 0), ('chimp', '17', 0), ('gorilla', '17', 0))"
   ]
  },
  {
   "cell_type": "code",
   "execution_count": null,
   "metadata": {},
   "outputs": [],
   "source": [
    "chromosome_compare(TEST_DF, ('human', '18', 0), ('chimp', '18', 0), ('gorilla', '18', 0))"
   ]
  },
  {
   "cell_type": "code",
   "execution_count": null,
   "metadata": {},
   "outputs": [],
   "source": [
    "chromosome_compare(TEST_DF, ('human', '19', 0), ('chimp', '19', 0), ('gorilla', '19', 0))"
   ]
  },
  {
   "cell_type": "code",
   "execution_count": null,
   "metadata": {},
   "outputs": [],
   "source": [
    "chromosome_compare(TEST_DF, ('human', '20', 0), ('chimp', '20', 0), ('gorilla', '20', 0))"
   ]
  },
  {
   "cell_type": "code",
   "execution_count": null,
   "metadata": {},
   "outputs": [],
   "source": [
    "chromosome_compare(TEST_DF, ('human', '21', 0), ('chimp', '21', 0), ('gorilla', '21', 0))"
   ]
  },
  {
   "cell_type": "code",
   "execution_count": null,
   "metadata": {},
   "outputs": [],
   "source": [
    "chromosome_compare(TEST_DF, ('human', '22', 0), ('chimp', '22', 0), ('gorilla', '22', 0))"
   ]
  },
  {
   "cell_type": "code",
   "execution_count": null,
   "metadata": {},
   "outputs": [],
   "source": [
    "chromosome_compare(TEST_DF, ('human', 'X', 0), ('chimp','X', 0), ('gorilla', 'X', 0))"
   ]
  },
  {
   "cell_type": "markdown",
   "metadata": {},
   "source": [
    "Large parts of gorilla chromosome 5 correspond to human and chimp chromosome 17.\n",
    "This graph looks wrong (like there is a bug) -- there is way too much crossing of same orientation lines, in all other graphs these are parallel, and only inverted lines cross in middle."
   ]
  },
  {
   "cell_type": "code",
   "execution_count": null,
   "metadata": {},
   "outputs": [],
   "source": [
    "chromosome_compare(TEST_DF, ('chimp', '17', 0), ('gorilla', '5', 0), ('human', '17', 0))"
   ]
  },
  {
   "cell_type": "code",
   "execution_count": null,
   "metadata": {},
   "outputs": [],
   "source": [
    "chromosome_compare(TEST_DF, ('human', '17', 0), ('gorilla', '5', 0), ('chimp', '17', 0))"
   ]
  },
  {
   "cell_type": "code",
   "execution_count": null,
   "metadata": {},
   "outputs": [],
   "source": [
    "human_1M = related_species.getSpecies('human')\n",
    "chimp_1M = related_species.getSpecies('chimp')\n",
    "gorilla_1M = related_species.getSpecies('gorilla')"
   ]
  },
  {
   "cell_type": "code",
   "execution_count": null,
   "metadata": {},
   "outputs": [],
   "source": [
    "print(\"hcg sizes: \", len(human_1M), len(chimp_1M), len(gorilla_1M))\n",
    "hstr = f\"{human_1M['score'].min()}-{human_1M['score'].max()}\"\n",
    "cstr = f\"{chimp_1M['score'].min()}-{chimp_1M['score'].max()}\"\n",
    "gstr = f\"{gorilla_1M['score'].min()}-{gorilla_1M['score'].max()}\"\n",
    "print(f\"hcg range: {hstr}, {cstr}, {gstr}\")"
   ]
  },
  {
   "cell_type": "code",
   "execution_count": null,
   "metadata": {},
   "outputs": [],
   "source": [
    "chr_map = related_species.chr_order\n",
    "\n",
    "def ab_count(df, chrVal, mchrVal):\n",
    "    result = 0\n",
    "    dataVal = df[(df['chr'] == chrVal) & (df['mchr'] == mchrVal)]\n",
    "    if len(dataVal) == 1:\n",
    "        result = dataVal.iloc[0]['count']\n",
    "    return result\n",
    "\n",
    "def duplicate_grid(df, sp):\n",
    "    sp1_chr_list = chr_map[sp]\n",
    "    sp2_chr_list = chr_map[sp]\n",
    "    ax1chrs = [ v1 for v1 in sp1_chr_list for v2 in sp2_chr_list]\n",
    "    ax2chrs = [ v2 for v1 in sp1_chr_list for v2 in sp2_chr_list]\n",
    "    counts = []\n",
    "    for ax1_chr,ax2_chr in zip(ax1chrs,ax2chrs):\n",
    "        count = ab_count(df, ax1_chr, ax2_chr)\n",
    "        if ax1_chr != ax2_chr:\n",
    "            count += ab_count(df, ax2_chr, ax1_chr)\n",
    "        counts.append(count)\n",
    "    source = pd.DataFrame({'x': ax1chrs,\n",
    "                           'y': ax2chrs,\n",
    "                           'z': counts})\n",
    "    return source\n",
    "\n",
    "def duplicate_graph(df, sp):\n",
    "    ax1_title = f\"{sp} chromosomes\"\n",
    "    ax2_title = f\"{sp} chromosomes\"\n",
    "    return alt.Chart(df).mark_rect().encode(\n",
    "        x=alt.X('x:N', sort=chr_map[sp], axis=alt.Axis(title=ax1_title, grid=True, ticks=True)),\n",
    "        y=alt.Y('y:N', sort=chr_map[sp], axis=alt.Axis(title=ax2_title, grid=True, ticks=True)),\n",
    "        color=alt.Color('z:Q', title=\"count\")\n",
    "    )\n",
    "\n",
    "def duplicate_heatmap(df, sp):\n",
    "    \"\"\"create heatmap for duplicated chunks\"\"\"\n",
    "    ddg = df.groupby(['chr', 'mchr']).count()\n",
    "    ddg.reset_index(inplace=True)\n",
    "    grid = duplicate_grid(ddg, sp)\n",
    "    return duplicate_graph(grid, sp)"
   ]
  },
  {
   "cell_type": "markdown",
   "metadata": {},
   "source": [
    "Two unexpected things about the duplicates:\n",
    "- most duplicates are within a chromosome (that's why they are excluded below, they dominate)\n",
    "- those NOT in the same chromosome seem to be in X"
   ]
  },
  {
   "cell_type": "code",
   "execution_count": null,
   "metadata": {},
   "outputs": [],
   "source": [
    "duplicate_heatmap(related_species.getSpeciesXchr('human'), 'human')"
   ]
  },
  {
   "cell_type": "code",
   "execution_count": null,
   "metadata": {},
   "outputs": [],
   "source": [
    "duplicate_heatmap(related_species.getSpeciesXchr('chimp'), 'chimp')"
   ]
  },
  {
   "cell_type": "code",
   "execution_count": null,
   "metadata": {},
   "outputs": [],
   "source": [
    "duplicate_heatmap(related_species.getSpeciesXchr('gorilla'), 'gorilla')"
   ]
  },
  {
   "cell_type": "code",
   "execution_count": null,
   "metadata": {},
   "outputs": [],
   "source": [
    "\n",
    "def labels_graph(df, top_label, middle_label, bottom_label):\n",
    "    domains = [ 'same', 'inversed']\n",
    "    color_scale = alt.Scale(\n",
    "        domain=domains,\n",
    "        range=['#6baed6', '#fcae91']\n",
    "    )\n",
    "\n",
    "    # df represented lines are all from the center horizontal line to the top or bottom horizonal line\n",
    "    lines = alt.Chart(df).mark_line().encode(\n",
    "        x=alt.X('x',axis=None), #alt.Axis(grid=False)),\n",
    "        y=alt.Y('y',axis=alt.Axis(grid=False)),\n",
    "        x2='x2',\n",
    "        y2='y2',\n",
    "        color=alt.Color('orientation:N', scale=color_scale)\n",
    "    )\n",
    "    \n",
    "    maxVals = df.max()\n",
    "    max_Y_value = maxVals['y2']\n",
    "     \n",
    "    # make a DataFrame to hold the location of the labels\n",
    "    X_MARGIN = 10\n",
    "    Y_MARGIN = 12\n",
    "    top_data = pd.DataFrame({\n",
    "        'x': [ X_MARGIN, X_MARGIN, X_MARGIN ],\n",
    "        'y': [ max_Y_value - Y_MARGIN, int(max_Y_value/2), Y_MARGIN ],\n",
    "        'text': [ top_label, middle_label, bottom_label ]\n",
    "    })\n",
    "    three_stacked_labels = alt.Chart(top_data).mark_text(\n",
    "        stroke='grey',\n",
    "        opacity=0.9, \n",
    "        fontSize=10,\n",
    "        fontStyle=\"italic\",\n",
    "    ).encode(\n",
    "        x=alt.X('x:Q'),\n",
    "        y=alt.Y('y:Q'),\n",
    "        text=alt.Text('text'),\n",
    "        color=alt.Color('orientation:N', legend=None, scale=color_scale)\n",
    "    )\n",
    "    \n",
    "    orientation_legend = alt.Chart().mark_text().encode(\n",
    "        x=alt.X('x:Q', axis=alt.Axis(title='A label and axis that I want', grid=False, ticks=True)),\n",
    "        y=alt.Y('y:Q', axis=None), #alt.Axis(title='A LINE that I do NOT want', grid=False, labels=False, ticks=False)),\n",
    "        color=alt.Color('orientation:N', legend=alt.Legend(orient=\"right\", title='', symbolType=\"stroke\"), scale=color_scale)\n",
    "    )\n",
    "\n",
    "    return alt.layer(orientation_legend, three_stacked_labels, lines).configure_view(\n",
    "        stroke='transparent'\n",
    "    ).configure_axis(grid=False)\n",
    "#     return alt.layer(orientation_legend, lines).configure_view(\n",
    "#         stroke='transparent'\n",
    "#     ).configure_axis(grid=False)\n",
    "\n",
    "# either refine 3 species graph or make it generic and able to handle same species (for duplicates)\n",
    "# parameters should be (species, chromosome, start_loc, end_loc)"
   ]
  },
  {
   "cell_type": "code",
   "execution_count": null,
   "metadata": {},
   "outputs": [],
   "source": [
    "df = pd.read_csv('graph_example.csv')\n",
    "labels_graph(df, 'TOP label', 'MIDDLE label', 'BOTTOM label')"
   ]
  },
  {
   "cell_type": "code",
   "execution_count": null,
   "metadata": {},
   "outputs": [],
   "source": [
    "df[:10]\n"
   ]
  },
  {
   "cell_type": "code",
   "execution_count": null,
   "metadata": {},
   "outputs": [],
   "source": []
  }
 ],
 "metadata": {
  "kernelspec": {
   "display_name": "Python 3",
   "language": "python",
   "name": "python3"
  },
  "language_info": {
   "codemirror_mode": {
    "name": "ipython",
    "version": 3
   },
   "file_extension": ".py",
   "mimetype": "text/x-python",
   "name": "python",
   "nbconvert_exporter": "python",
   "pygments_lexer": "ipython3",
   "version": "3.7.6"
  }
 },
 "nbformat": 4,
 "nbformat_minor": 2
}
